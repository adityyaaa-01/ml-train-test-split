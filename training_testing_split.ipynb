{
  "nbformat": 4,
  "nbformat_minor": 0,
  "metadata": {
    "colab": {
      "provenance": []
    },
    "kernelspec": {
      "name": "python3",
      "display_name": "Python 3"
    },
    "language_info": {
      "name": "python"
    }
  },
  "cells": [
    {
      "cell_type": "code",
      "execution_count": 23,
      "metadata": {
        "id": "pxjznmzhCzJF",
        "colab": {
          "base_uri": "https://localhost:8080/"
        },
        "outputId": "4f7a2a3d-a8f5-4ae6-ce47-517359b32590"
      },
      "outputs": [
        {
          "output_type": "stream",
          "name": "stdout",
          "text": [
            "   Unnamed: 0  YearsExperience   Salary\n",
            "0           0              1.2  39344.0\n",
            "1           1              1.4  46206.0\n",
            "2           2              1.6  37732.0\n",
            "3           3              2.1  43526.0\n"
          ]
        },
        {
          "output_type": "execute_result",
          "data": {
            "text/plain": [
              "(30, 3)"
            ]
          },
          "metadata": {},
          "execution_count": 23
        }
      ],
      "source": [
        "import pandas as pd\n",
        "from sklearn.model_selection import train_test_split\n",
        "data=pd.read_csv(\"/content/Salary_dataset.csv\")\n",
        "print(data.head(4))\n",
        "# print(data.iloc[2,2])#single element\n",
        "# print(data.iloc[2])#entire row\n",
        "# print(data.iloc[:,2])#entire column\n",
        "# print(data.iloc[0:2,0:2])#excluding end index\n",
        "# print(data.iloc[:,:])#all rows and all column\n",
        "\n",
        "x_data=data.iloc[:,:-1]\n",
        "y_data=data.iloc[:,-1]\n",
        "# print(y_data)\n",
        "# print(x_data)\n",
        "x_train,x_test,y_train,y_test=train_test_split(x_data,y_data,test_size=0.25)\n",
        "\n",
        "\n",
        "data.shape"
      ]
    },
    {
      "cell_type": "code",
      "source": [
        "x_test.shape"
      ],
      "metadata": {
        "colab": {
          "base_uri": "https://localhost:8080/"
        },
        "id": "4MvYViV-wsW9",
        "outputId": "4b04b283-f545-468e-c20b-bbdf3a3a0488"
      },
      "execution_count": 15,
      "outputs": [
        {
          "output_type": "execute_result",
          "data": {
            "text/plain": [
              "(8, 2)"
            ]
          },
          "metadata": {},
          "execution_count": 15
        }
      ]
    },
    {
      "cell_type": "code",
      "source": [
        "x_train.shape"
      ],
      "metadata": {
        "colab": {
          "base_uri": "https://localhost:8080/"
        },
        "id": "wJ3ZOyYcw0T3",
        "outputId": "fe3f32ad-c99f-40bc-896b-60590edf80b5"
      },
      "execution_count": 18,
      "outputs": [
        {
          "output_type": "execute_result",
          "data": {
            "text/plain": [
              "(22, 2)"
            ]
          },
          "metadata": {},
          "execution_count": 18
        }
      ]
    },
    {
      "cell_type": "code",
      "source": [
        "print(y_test)\n",
        "print(x_train)"
      ],
      "metadata": {
        "colab": {
          "base_uri": "https://localhost:8080/"
        },
        "id": "0qmSionFwh4f",
        "outputId": "e6d51439-5d6f-4855-fbb9-bc27b139105c"
      },
      "execution_count": 14,
      "outputs": [
        {
          "output_type": "stream",
          "name": "stdout",
          "text": [
            "18    81364.0\n",
            "12    56958.0\n",
            "5     56643.0\n",
            "7     54446.0\n",
            "1     46206.0\n",
            "14    61112.0\n",
            "16    66030.0\n",
            "4     39892.0\n",
            "Name: Salary, dtype: float64\n",
            "    Unnamed: 0  YearsExperience\n",
            "9            9              3.8\n",
            "15          15              5.0\n",
            "11          11              4.1\n",
            "20          20              6.9\n",
            "25          25              9.1\n",
            "19          19              6.1\n",
            "26          26              9.6\n",
            "27          27              9.7\n",
            "3            3              2.1\n",
            "13          13              4.2\n",
            "28          28             10.4\n",
            "24          24              8.8\n",
            "29          29             10.6\n",
            "8            8              3.3\n",
            "10          10              4.0\n",
            "2            2              1.6\n",
            "6            6              3.1\n",
            "23          23              8.3\n",
            "0            0              1.2\n",
            "17          17              5.4\n",
            "21          21              7.2\n",
            "22          22              8.0\n"
          ]
        }
      ]
    }
  ]
}